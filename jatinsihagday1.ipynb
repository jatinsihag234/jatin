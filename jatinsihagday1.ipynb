{
  "nbformat": 4,
  "nbformat_minor": 0,
  "metadata": {
    "colab": {
      "provenance": [],
      "authorship_tag": "ABX9TyP8oYi38KrF/FY6Uyo7YAvh",
      "include_colab_link": true
    },
    "kernelspec": {
      "name": "python3",
      "display_name": "Python 3"
    },
    "language_info": {
      "name": "python"
    }
  },
  "cells": [
    {
      "cell_type": "markdown",
      "metadata": {
        "id": "view-in-github",
        "colab_type": "text"
      },
      "source": [
        "<a href=\"https://colab.research.google.com/github/jatinsihag234/jatin/blob/main/jatinsihagday1.ipynb\" target=\"_parent\"><img src=\"https://colab.research.google.com/assets/colab-badge.svg\" alt=\"Open In Colab\"/></a>"
      ]
    },
    {
      "cell_type": "markdown",
      "source": [],
      "metadata": {
        "id": "7pBCMRFBqoCB"
      }
    },
    {
      "cell_type": "markdown",
      "source": [
        "1. Python Program to Print Hello World!\n"
      ],
      "metadata": {
        "id": "bVmw__m_q22r"
      }
    },
    {
      "cell_type": "code",
      "source": [
        "print(\"hello world\")"
      ],
      "metadata": {
        "colab": {
          "base_uri": "https://localhost:8080/"
        },
        "id": "sH9CYfAorXSI",
        "outputId": "6abe0f80-1ccf-4bde-f727-06642aab36e1"
      },
      "execution_count": null,
      "outputs": [
        {
          "output_type": "stream",
          "name": "stdout",
          "text": [
            "hello world\n"
          ]
        }
      ]
    },
    {
      "cell_type": "markdown",
      "source": [
        "2. Write a program for the addition of Two Numbers."
      ],
      "metadata": {
        "id": "XZ4eWIASru_R"
      }
    },
    {
      "cell_type": "code",
      "source": [
        "num1 = float(input(\"Enter first number: \"))\n",
        "num2 = float(input(\"Enter second number: \"))\n",
        "sum = num1 + num2\n",
        "print(\"The sum of {0} and {1} is {2}\".format(num1, num2, sum))\n"
      ],
      "metadata": {
        "colab": {
          "base_uri": "https://localhost:8080/"
        },
        "id": "cQ1Hlp9eryeC",
        "outputId": "a279896c-44ab-471e-820a-fba26cc37ca8"
      },
      "execution_count": null,
      "outputs": [
        {
          "output_type": "stream",
          "name": "stdout",
          "text": [
            "Enter first number: 5\n",
            "Enter second number: 6\n",
            "The sum of 5.0 and 6.0 is 11.0\n"
          ]
        }
      ]
    },
    {
      "cell_type": "markdown",
      "source": [
        "3. Write a program to Read Two Numbers and Print Their Quotient and Remainder."
      ],
      "metadata": {
        "id": "haRM7BIxs61J"
      }
    },
    {
      "cell_type": "code",
      "source": [
        "a=int(input(\"enter a number\"))\n",
        "b=int(input(\"enter a number\"))\n",
        "l=a%b\n",
        "j=a/b\n",
        "print(\"remainder of the entries is:\",l)\n",
        "print(\"quotient of the entries is:\",j)     \n",
        "                           "
      ],
      "metadata": {
        "id": "OFIzIw1RtUvP",
        "colab": {
          "base_uri": "https://localhost:8080/"
        },
        "outputId": "930c8c06-5644-4e6f-ef35-156891026db3"
      },
      "execution_count": 13,
      "outputs": [
        {
          "output_type": "stream",
          "name": "stdout",
          "text": [
            "enter a number1\n",
            "enter a number2\n",
            "remainder of the entries is: 1\n",
            "quotient of the entries is: 0.5\n"
          ]
        }
      ]
    },
    {
      "cell_type": "markdown",
      "source": [
        "4. Write a program to Find the Average of Three Numbers."
      ],
      "metadata": {
        "id": "arsJ0dwMtKfm"
      }
    },
    {
      "cell_type": "code",
      "source": [
        "a=int(input(\"enter a number\"))\n",
        "b=int(input(\"enter a number\"))\n",
        "c=int(input(\"enter a number\"))\n",
        "d=(a+b+c)/3\n",
        "print(\"average\",d)"
      ],
      "metadata": {
        "id": "_g1QY_FztKr7",
        "colab": {
          "base_uri": "https://localhost:8080/"
        },
        "outputId": "ab46d4ec-5a22-4673-99cd-6046bfac034a"
      },
      "execution_count": 31,
      "outputs": [
        {
          "output_type": "stream",
          "name": "stdout",
          "text": [
            "enter a number7\n",
            "enter a number9\n",
            "enter a number10\n",
            "average 8.666666666666666\n"
          ]
        }
      ]
    },
    {
      "cell_type": "markdown",
      "source": [
        "5. Write a program to Calculate Sum of 5 Subjects and Find Percentage (Max Mark in each subject is 100)."
      ],
      "metadata": {
        "id": "b0UrCNrYtWEN"
      }
    },
    {
      "cell_type": "code",
      "source": [
        "a=int(input(\"enter the marks in subject 1\"))\n",
        "b=int(input(\"enter the marks in subject 2\"))\n",
        "c=int(input(\"enter the marks in subject 3\"))\n",
        "d=int(input(\"enter the marks in subject 4\"))\n",
        "e=int(input(\"enter the marks in subject 5\"))\n",
        "g=a+b+c+d+e\n",
        "percentage=(g*100)/500\n",
        "print(\"percentage\",percentage)"
      ],
      "metadata": {
        "id": "71IgSbwwt1SR",
        "colab": {
          "base_uri": "https://localhost:8080/"
        },
        "outputId": "b962d3f6-e04e-414e-d173-d64c11bff7fa"
      },
      "execution_count": 17,
      "outputs": [
        {
          "output_type": "stream",
          "name": "stdout",
          "text": [
            "enter the marks in subject 192\n",
            "enter the marks in subject 299\n",
            "enter the marks in subject 387\n",
            "enter the marks in subject 490\n",
            "enter the marks in subject 587\n",
            "percentage 91.0\n"
          ]
        }
      ]
    },
    {
      "cell_type": "markdown",
      "source": [
        "6. Write a program to find gross salary."
      ],
      "metadata": {
        "id": "JxIy6sJjtcdZ"
      }
    },
    {
      "cell_type": "code",
      "source": [
        "basic=int(input(\"enter basic salary:\"))\n",
        "hra=int(input(\"enter human resource allowances:\"))\n",
        "da=int(input(\"enter derness allowances:\"))\n",
        "hra=(hra/100)*basic\n",
        "print(hra)\n",
        "da=(da/100)*basic\n",
        "print(da)\n",
        "grosssalary=basic+hra+da\n",
        "print(\"gross salary=\",grosssalary)"
      ],
      "metadata": {
        "id": "r2zHaHrMtcni",
        "colab": {
          "base_uri": "https://localhost:8080/"
        },
        "outputId": "99f23c30-1334-4886-ec54-c9b940ae1480"
      },
      "execution_count": 18,
      "outputs": [
        {
          "output_type": "stream",
          "name": "stdout",
          "text": [
            "enter basic salary:500000\n",
            "enter human resource allowances:25000\n",
            "enter derness allowances:50000\n",
            "125000000.0\n",
            "250000000.0\n",
            "gross salary= 375500000.0\n"
          ]
        }
      ]
    },
    {
      "cell_type": "markdown",
      "source": [
        "7. Write a program to Calculate Area of Rectangle, Square.\n"
      ],
      "metadata": {
        "id": "ymvMgJOjtczg"
      }
    },
    {
      "cell_type": "code",
      "source": [
        "g=int(input(\"to calculate the area to rectangle enter 1 and for square 0:\"))\n",
        "if(g==1):\n",
        "  l=int(input(\"enter the lenghth:\"))\n",
        "  b=int(input(\"enter the breadth:\"))\n",
        "  area=l*b\n",
        "else:\n",
        "  s=int(input(\"enter the side:\"))\n",
        "  area=s**2\n",
        "print('Area=',area)"
      ],
      "metadata": {
        "id": "VjKzr1yFtc9g",
        "colab": {
          "base_uri": "https://localhost:8080/"
        },
        "outputId": "c5dc83cc-d9b0-4403-f27d-1a39c3fd65ef"
      },
      "execution_count": 20,
      "outputs": [
        {
          "output_type": "stream",
          "name": "stdout",
          "text": [
            "to calculate the area to rectangle enter 1 and for square 0:4\n",
            "enter the side:4\n",
            "Area= 16\n"
          ]
        }
      ]
    },
    {
      "cell_type": "markdown",
      "source": [
        "\n",
        "8. Write a program to Calculate Area of Scalene Triangle and Right-angle Triangle.\n"
      ],
      "metadata": {
        "id": "l9EaDfO5tdHo"
      }
    },
    {
      "cell_type": "code",
      "source": [
        "a=int(input(\"enter the side 1:\"))\n",
        "b=int(input(\"enter the side 2:\"))\n",
        "c=int(input(\"enter the side 3:\"))\n",
        "s=(a+b+c)/2\n",
        "d=s*(s-a)*(s-b)*(s-c)\n",
        "area=d**(1/2)\n",
        "print(\"area of triangle\",area)\n",
        " "
      ],
      "metadata": {
        "id": "qtt7GItgtdRg",
        "colab": {
          "base_uri": "https://localhost:8080/"
        },
        "outputId": "539b74db-2431-43ff-f4d2-b2d3f1c520c1"
      },
      "execution_count": 21,
      "outputs": [
        {
          "output_type": "stream",
          "name": "stdout",
          "text": [
            "enter the side 1:6\n",
            "enter the side 2:4\n",
            "enter the side 3:8\n",
            "area of triangle 11.61895003862225\n"
          ]
        }
      ]
    },
    {
      "cell_type": "markdown",
      "source": [
        "9. Write a program to find the volume and surface area of cube, cuboids and cylinder."
      ],
      "metadata": {
        "id": "lIFcOVq4tdax"
      }
    },
    {
      "cell_type": "code",
      "source": [
        "     a=int(input(\"To calculate area and volume of cube enter 1 ,for cuboid enter 2 and for cylinder enter 3:\"))\n",
        "if(a==2):\n",
        "  l=int(input(\"enter the length:\"))\n",
        "  b=int(input(\"enter the breadth:\"))\n",
        "  h=int(input(\"enter the height:\"))\n",
        "  volume=l*b*h\n",
        "  area=2*(l*b+b*h+h*l)\n",
        "elif(a==1):\n",
        "  s=int(input(\"enter the side:\")) \n",
        "  volume=s**3\n",
        "  area=6*(s**2) \n",
        "elif(a==3):\n",
        "  r=int(input(\"enter the radius:\"))  \n",
        "  h=int(input(\"enter the height:\"))\n",
        "  volume=(3.14)*(r**2)*h\n",
        "  area=2*(3.14)*r*h + (3.14)*(r**2)\n",
        "print(\"area:\",area)\n",
        "print(\"volume:\",volume)"
      ],
      "metadata": {
        "id": "0Z3RvSqXtdkb",
        "colab": {
          "base_uri": "https://localhost:8080/"
        },
        "outputId": "bb005550-aa73-4127-b963-42142b7385a8"
      },
      "execution_count": 23,
      "outputs": [
        {
          "output_type": "stream",
          "name": "stdout",
          "text": [
            "To calculate area and volume of cube enter 1 ,for cuboid enter 2 and for cylinder enter 3:1\n",
            "enter the side:2\n",
            "area: 24\n",
            "volume: 8\n"
          ]
        }
      ]
    },
    {
      "cell_type": "markdown",
      "source": [
        "10. Write a program to Calculate Volume and surface area of Cone, Sphere and Cylinder."
      ],
      "metadata": {
        "id": "F1uW14sXwggt"
      }
    },
    {
      "cell_type": "code",
      "source": [
        "a=int(input(\"To calculate area and volume of cone enter 1 ,for sphere enter 2 and for cylinder enter 3:\"))\n",
        "if(a==1):\n",
        "  r=int(input(\"enter the radius:\"))\n",
        "  h=int(input(\"enter the height:\"))\n",
        "  l=int(input(\"enter the slant height:\"))\n",
        "  volume=(1/3)*(3.14)*(r**2)*h\n",
        "  area=(3.14)*(r)*(r+l)\n",
        "elif(a==2):\n",
        "  r=int(input(\"enter the radius:\")) \n",
        "  volume=(4/3)*(r**3)*(3.14)\n",
        "  area=4*(r**2)*(3.14)\n",
        "elif(a==3):\n",
        "  r=int(input(\"enter the radius:\"))  \n",
        "  h=int(input(\"enter the height:\"))\n",
        "  volume=(3.14)*(r**2)*h\n",
        "  area=2*(3.14)*r*h + (3.14)*(r**2)\n",
        "print(\"area:\",area)\n",
        "print(\"volume:\",volume)"
      ],
      "metadata": {
        "id": "EDtnXTdHs8xH",
        "colab": {
          "base_uri": "https://localhost:8080/"
        },
        "outputId": "927f2692-57e9-45de-8044-6348d5985a2f"
      },
      "execution_count": 24,
      "outputs": [
        {
          "output_type": "stream",
          "name": "stdout",
          "text": [
            "To calculate area and volume of cone enter 1 ,for sphere enter 2 and for cylinder enter 3:3\n",
            "enter the radius:4\n",
            "enter the height:5\n",
            "area: 175.84\n",
            "volume: 251.20000000000002\n"
          ]
        }
      ]
    },
    {
      "cell_type": "markdown",
      "source": [
        "11. Write a program to find the area of trapezium, rhombus and parallelogram.\n"
      ],
      "metadata": {
        "id": "afEtQREyZ0PX"
      }
    },
    {
      "cell_type": "code",
      "source": [
        "a=int(input(\"To calculate area of trapezium enter 1 ,for rhombus enter 2 and for parallelogram enter 3:\"))\n",
        "if(a==1):\n",
        "  a=int(input(\"enter the base1:\"))\n",
        "  b=int(input(\"enter the base2:\"))\n",
        "  h=int(input(\"enter the height:\"))\n",
        "  area=((a+b)*h)/2\n",
        "elif(a==2):\n",
        "  p=int(input(\"enter the diagonal1:\"))\n",
        "  q=int(input(\"enter the diagonal2:\")) \n",
        "  area=(p*q)/2\n",
        "elif(a==3):\n",
        "  b=int(input(\"enter the base:\"))  \n",
        "  h=int(input(\"enter the height:\"))\n",
        "  area=b*h\n",
        "print(\"area:\",area)"
      ],
      "metadata": {
        "colab": {
          "base_uri": "https://localhost:8080/"
        },
        "id": "5q_Lt4jgcIDd",
        "outputId": "a9e1a84c-5dcc-4d2f-8813-5bca8cb64775"
      },
      "execution_count": 32,
      "outputs": [
        {
          "output_type": "stream",
          "name": "stdout",
          "text": [
            "To calculate area of trapezium enter 1 ,for rhombus enter 2 and for parallelogram enter 3:3\n",
            "enter the base:5\n",
            "enter the height:8\n",
            "area: 40\n"
          ]
        }
      ]
    },
    {
      "cell_type": "markdown",
      "source": [
        "12. Write a program to find the perimeter of a circle, rectangle and triangle.                 "
      ],
      "metadata": {
        "id": "rzZr0OqhwjPB"
      }
    },
    {
      "cell_type": "code",
      "source": [
        "a=int(input(\"To calculate perimeter of circle enter 1 ,for rectangle enter 2 and for triangle enter 3:\"))\n",
        "if(a==1):\n",
        "  r=int(input(\"enter the radius:\"))\n",
        "  p=2*(3.14)*r\n",
        "elif(a==2):\n",
        "  l=int(input(\"enter the length:\"))\n",
        "  b=int(input(\"enter the breadth:\")) \n",
        "  p=2*(l+b)\n",
        "elif(a==3):\n",
        "  s1=int(input(\"enter the side1:\"))  \n",
        "  s2=int(input(\"enter the side2:\"))\n",
        "  s3=int(input(\"enter the side3:\"))\n",
        "  p=s1+s2+s3\n",
        "print(\"perimeter:\",p)"
      ],
      "metadata": {
        "colab": {
          "base_uri": "https://localhost:8080/"
        },
        "id": "tcxaiRIzcJHE",
        "outputId": "df0a9850-7830-4179-9cae-937128261c5d"
      },
      "execution_count": 38,
      "outputs": [
        {
          "output_type": "stream",
          "name": "stdout",
          "text": [
            "To calculate perimeter of circle enter 1 ,for rectangle enter 2 and for triangle enter 3:2\n",
            "enter the length:4\n",
            "enter the breadth:6\n",
            "perimeter: 20\n"
          ]
        }
      ]
    },
    {
      "cell_type": "markdown",
      "source": [
        "13. Write a program to Compute Simple Interest."
      ],
      "metadata": {
        "id": "oIOVa5WscJV4"
      }
    },
    {
      "cell_type": "code",
      "source": [
        "from IPython.utils.sysinfo import pprint\n",
        "p=int(input(\"enter initial principal amount:\"))\n",
        "r=int(input(\"enter the rate:\"))\n",
        "n=int(input(\"enter the number of times interest applied per time period:\"))\n",
        "t=int(input(\"enter the time period:\"))\n",
        "a=p*((1+(r/n))**(n*t))\n",
        "ci=a-p\n",
        "print(\"compound intrest:\",ci)"
      ],
      "metadata": {
        "colab": {
          "base_uri": "https://localhost:8080/"
        },
        "id": "SmTglzbqcJhG",
        "outputId": "ebc13065-b52f-44a3-8751-ec7fb10e9deb"
      },
      "execution_count": 39,
      "outputs": [
        {
          "output_type": "stream",
          "name": "stdout",
          "text": [
            "enter initial principal amount:6\n",
            "enter the rate:7\n",
            "enter the number of times interest applied per time period:9\n",
            "enter the time period:3\n",
            "compound intrest: 33484433.006985754\n"
          ]
        }
      ]
    },
    {
      "cell_type": "markdown",
      "source": [
        "14. Write a program to Convert Fahrenheit temperature in to Celsius."
      ],
      "metadata": {
        "id": "eiZOK_r6cJqf"
      }
    },
    {
      "cell_type": "code",
      "source": [
        "f=int(input(\"enter the value:\"))\n",
        "c=(9*(f-32))/5\n",
        "print(\"Incelcius:\",c)"
      ],
      "metadata": {
        "colab": {
          "base_uri": "https://localhost:8080/"
        },
        "id": "mcg5-PPucJ1D",
        "outputId": "c6155d6a-12a4-4613-db10-9bd0eef037f0"
      },
      "execution_count": 40,
      "outputs": [
        {
          "output_type": "stream",
          "name": "stdout",
          "text": [
            "enter the value:15\n",
            "Incelcius: -30.6\n"
          ]
        }
      ]
    },
    {
      "cell_type": "markdown",
      "source": [
        "15. Write a program to Find the Gravitational Force Acting Between Two Objects."
      ],
      "metadata": {
        "id": "WIKT-a5VcKAU"
      }
    },
    {
      "cell_type": "code",
      "source": [
        "m1=int(input(\"mass of object 1 in kg:\"))\n",
        "m2=int(input(\"mass of object 2 in kg:\"))\n",
        "r=int(input(\"distance between m1 and m2 in metre:\"))\n",
        "f=(m1*m2)/(r**2)\n",
        "print(\"gravitational force:\",f,\"N\")"
      ],
      "metadata": {
        "colab": {
          "base_uri": "https://localhost:8080/"
        },
        "id": "_-WNvVpxcKIs",
        "outputId": "5bd7ddf3-dbae-4500-e57f-517529a6af7e"
      },
      "execution_count": 41,
      "outputs": [
        {
          "output_type": "stream",
          "name": "stdout",
          "text": [
            "mass of object 1 in kg:60\n",
            "mass of object 2 in kg:20\n",
            "distance between m1 and m2 in metre:10\n",
            "gravitational force: 12.0 N\n"
          ]
        }
      ]
    },
    {
      "cell_type": "markdown",
      "source": [
        "16. Write a program to swap the values of two variables with and without using third variable."
      ],
      "metadata": {
        "id": "0jTF-Ul0cKVN"
      }
    },
    {
      "cell_type": "code",
      "source": [
        "a=int(input(\"to swap value of two no. by using third value press 1 and without it press 2:\"))\n",
        "b=int(input(\"enter the first number:\"))\n",
        "c=int(input(\"enter the second number:\"))\n",
        "if(a==1):\n",
        "  d=b+c\n",
        "  b=d-b\n",
        "  c=d-c\n",
        "else:\n",
        "  b,c==c,b\n",
        "print(\"the first no=\",b)\n",
        "print(\"the second no=\",c)  "
      ],
      "metadata": {
        "colab": {
          "base_uri": "https://localhost:8080/"
        },
        "id": "xCFxh2pLcKdZ",
        "outputId": "861ad828-a051-4c8c-d539-daa06f5db50d"
      },
      "execution_count": 42,
      "outputs": [
        {
          "output_type": "stream",
          "name": "stdout",
          "text": [
            "to swap value of two no. by using third value press 1 and without it press 2:34\n",
            "enter the first number:56\n",
            "enter the second number:23\n",
            "the first no= 56\n",
            "the second no= 23\n"
          ]
        }
      ]
    },
    {
      "cell_type": "markdown",
      "source": [
        "17. Write a program to perform arithmetic operations on a = 8, b = 3."
      ],
      "metadata": {
        "id": "Qtp0cJeWcKlo"
      }
    },
    {
      "cell_type": "code",
      "source": [
        "a=8\n",
        "b=3\n",
        "sum=a+b\n",
        "sub=a-b\n",
        "mup=a*b\n",
        "div=a/b\n",
        "print(\"sum=\",sum,\"sub=\",sub,\"mup=\",mup,\"div=\",div)"
      ],
      "metadata": {
        "colab": {
          "base_uri": "https://localhost:8080/"
        },
        "id": "K2a_iAkEcKua",
        "outputId": "0dd0c9e5-625e-4196-c53e-55e28aa6acec"
      },
      "execution_count": 44,
      "outputs": [
        {
          "output_type": "stream",
          "name": "stdout",
          "text": [
            "sum= 11 sub= 5 mup= 24 div= 2.6666666666666665\n"
          ]
        }
      ]
    },
    {
      "cell_type": "markdown",
      "source": [
        "18. Write a program to apply relational operations on a=8, b=3.\n"
      ],
      "metadata": {
        "id": "4sbpdRMrcK30"
      }
    },
    {
      "cell_type": "code",
      "source": [
        "a=8\n",
        "b=3\n",
        "y=bool(a>b)\n",
        "x=bool(a==b)\n",
        "z=bool(a<b)\n",
        "w=bool(a<=b)\n",
        "v=bool(a>=b)\n",
        "print(x,y,z,w,v)"
      ],
      "metadata": {
        "colab": {
          "base_uri": "https://localhost:8080/"
        },
        "id": "gmZr6AqhcLBN",
        "outputId": "be1c4d56-0d82-4bac-bd08-01fc0315fb70"
      },
      "execution_count": 46,
      "outputs": [
        {
          "output_type": "stream",
          "name": "stdout",
          "text": [
            "False True False False True\n"
          ]
        }
      ]
    },
    {
      "cell_type": "markdown",
      "source": [
        "19. Write a program to apply assignment operations on a=8, b=3."
      ],
      "metadata": {
        "id": "58PsSdbUcLKm"
      }
    },
    {
      "cell_type": "code",
      "source": [
        "a=8\n",
        "b=3\n",
        "a+=b\n",
        "print(a)\n",
        "a-=b\n",
        "print(a)\n",
        "a*=b\n",
        "print(a)\n",
        "a/=b\n",
        "print(a)"
      ],
      "metadata": {
        "colab": {
          "base_uri": "https://localhost:8080/"
        },
        "id": "Z0lLublucLUG",
        "outputId": "b62c52c5-c1b4-4cdd-d2c0-12c2ebaa5000"
      },
      "execution_count": 47,
      "outputs": [
        {
          "output_type": "stream",
          "name": "stdout",
          "text": [
            "11\n",
            "8\n",
            "24\n",
            "8.0\n"
          ]
        }
      ]
    },
    {
      "cell_type": "markdown",
      "source": [
        "20. Write a program to apply logical operations on a=8, b=3."
      ],
      "metadata": {
        "id": "OMn9cGWvcLdn"
      }
    },
    {
      "cell_type": "code",
      "source": [
        "a=8\n",
        "b=3\n",
        "f=bool(a>4 and b>4)\n",
        "g=bool(a>4 or b>4)\n",
        "print(f,g)"
      ],
      "metadata": {
        "colab": {
          "base_uri": "https://localhost:8080/"
        },
        "id": "8pD0xCwDcLnF",
        "outputId": "bb896b3d-b662-4da3-cdfa-d7b30a6e7f42"
      },
      "execution_count": 48,
      "outputs": [
        {
          "output_type": "stream",
          "name": "stdout",
          "text": [
            "False True\n"
          ]
        }
      ]
    },
    {
      "cell_type": "markdown",
      "source": [
        "21. Write a program to apply bitwise operations on a=8, b=3."
      ],
      "metadata": {
        "id": "n6wiWFiRcLxW"
      }
    },
    {
      "cell_type": "code",
      "source": [
        "a=8\n",
        "b=3\n",
        "c=a>>2\n",
        "d=a<<4\n",
        "e=b>>2\n",
        "f=b"
      ],
      "metadata": {
        "id": "HsANs5OScL6L"
      },
      "execution_count": 50,
      "outputs": []
    },
    {
      "cell_type": "markdown",
      "source": [
        "22. Write a program to apply identity operators."
      ],
      "metadata": {
        "id": "VUJPYm9fcMFA"
      }
    },
    {
      "cell_type": "code",
      "source": [
        "a=8\n",
        "b=3\n",
        "y=a is b\n",
        "print(y)"
      ],
      "metadata": {
        "colab": {
          "base_uri": "https://localhost:8080/"
        },
        "id": "Je1cMp3EcMPF",
        "outputId": "58019011-efd4-47a2-c9d0-882dc8cb2ff9"
      },
      "execution_count": 51,
      "outputs": [
        {
          "output_type": "stream",
          "name": "stdout",
          "text": [
            "False\n"
          ]
        }
      ]
    },
    {
      "cell_type": "markdown",
      "source": [
        "23. Write a program to Swap the Contents of two Numbers using Bitwise XOR Operation"
      ],
      "metadata": {
        "id": "4Tbtb9YScMXy"
      }
    },
    {
      "cell_type": "code",
      "source": [],
      "metadata": {
        "id": "lWhd22DjcMg0"
      },
      "execution_count": null,
      "outputs": []
    },
    {
      "cell_type": "markdown",
      "source": [
        "24. Write a program to Multiply given Number by 4 using Bitwise Operators."
      ],
      "metadata": {
        "id": "rRKdkfxKcMps"
      }
    },
    {
      "cell_type": "code",
      "source": [],
      "metadata": {
        "id": "dprQdbyfcM2E"
      },
      "execution_count": null,
      "outputs": []
    },
    {
      "cell_type": "markdown",
      "source": [
        "25. Python Program to Find the Square Root."
      ],
      "metadata": {
        "id": "PgovyvNdcNBQ"
      }
    },
    {
      "cell_type": "code",
      "source": [
        "a=int(input(\"enter a number\"))\n",
        "b=a**(1/2)\n",
        "print(\"square root=\",b)"
      ],
      "metadata": {
        "colab": {
          "base_uri": "https://localhost:8080/"
        },
        "id": "0dSo-8NIcNKb",
        "outputId": "d09a24c2-a00b-44e2-efd2-ebb3e3dbcf27"
      },
      "execution_count": 52,
      "outputs": [
        {
          "output_type": "stream",
          "name": "stdout",
          "text": [
            "enter a number2\n",
            "square root= 1.4142135623730951\n"
          ]
        }
      ]
    },
    {
      "cell_type": "markdown",
      "source": [
        "26. Python program to convert all units of time into seconds."
      ],
      "metadata": {
        "id": "ZCcXtP9dcNYv"
      }
    },
    {
      "cell_type": "code",
      "source": [],
      "metadata": {
        "id": "q8NG5pZicNg-"
      },
      "execution_count": null,
      "outputs": []
    },
    {
      "cell_type": "markdown",
      "source": [
        "27. Python program to calculate midpoints of a line-segment."
      ],
      "metadata": {
        "id": "izUQbUHzcOn6"
      }
    },
    {
      "cell_type": "code",
      "source": [
        "l=int(input('enter the lenth of line segment:'))\n",
        "mid=l//2\n",
        "print(mid)"
      ],
      "metadata": {
        "colab": {
          "base_uri": "https://localhost:8080/"
        },
        "id": "Gyqj36ZxcO7y",
        "outputId": "5e686f27-ee74-4c4a-cefa-db77f2d529cd"
      },
      "execution_count": 53,
      "outputs": [
        {
          "output_type": "stream",
          "name": "stdout",
          "text": [
            "enter the lenth of line segment:5\n",
            "2\n"
          ]
        }
      ]
    },
    {
      "cell_type": "markdown",
      "source": [
        "28. Python program to display your details like name, age, address in three different lines."
      ],
      "metadata": {
        "id": "gTF9YabjcPGR"
      }
    },
    {
      "cell_type": "code",
      "source": [],
      "metadata": {
        "id": "TlbJ9TV5cPSL"
      },
      "execution_count": null,
      "outputs": []
    },
    {
      "cell_type": "markdown",
      "source": [],
      "metadata": {
        "id": "fNivS-IFcPcY"
      }
    },
    {
      "cell_type": "code",
      "source": [],
      "metadata": {
        "id": "Gvd6S0A4cPle"
      },
      "execution_count": null,
      "outputs": []
    },
    {
      "cell_type": "markdown",
      "source": [],
      "metadata": {
        "id": "g0a1p_7TcPuv"
      }
    },
    {
      "cell_type": "code",
      "source": [],
      "metadata": {
        "id": "YIvrQbuvcP4B"
      },
      "execution_count": null,
      "outputs": []
    },
    {
      "cell_type": "markdown",
      "source": [],
      "metadata": {
        "id": "FSAxy1zYcQBH"
      }
    },
    {
      "cell_type": "code",
      "source": [],
      "metadata": {
        "id": "xFC-tm4bcQLq"
      },
      "execution_count": null,
      "outputs": []
    },
    {
      "cell_type": "markdown",
      "source": [],
      "metadata": {
        "id": "LWuwbDJCcQTh"
      }
    },
    {
      "cell_type": "code",
      "source": [],
      "metadata": {
        "id": "KazyRmPscQhA"
      },
      "execution_count": null,
      "outputs": []
    },
    {
      "cell_type": "markdown",
      "source": [],
      "metadata": {
        "id": "wCmJhJyWcQqu"
      }
    },
    {
      "cell_type": "code",
      "source": [],
      "metadata": {
        "id": "BzbibOqpcQyk"
      },
      "execution_count": null,
      "outputs": []
    },
    {
      "cell_type": "markdown",
      "source": [],
      "metadata": {
        "id": "QM65cVgocQ6v"
      }
    },
    {
      "cell_type": "code",
      "source": [],
      "metadata": {
        "id": "AUy7v1YpcRGs"
      },
      "execution_count": null,
      "outputs": []
    },
    {
      "cell_type": "markdown",
      "source": [],
      "metadata": {
        "id": "nOuyrDZfcRQl"
      }
    },
    {
      "cell_type": "code",
      "source": [],
      "metadata": {
        "id": "1Yj3BXotcRYV"
      },
      "execution_count": null,
      "outputs": []
    }
  ]
}